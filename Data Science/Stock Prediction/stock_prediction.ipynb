{
 "cells": [
  {
   "cell_type": "markdown",
   "id": "16c730b3-36a9-4249-9f5f-f6f170beccc7",
   "metadata": {},
   "source": [
    "# Stock Market Price Prediction"
   ]
  },
  {
   "cell_type": "markdown",
   "id": "4c14c945-de05-47f2-b9c7-5aa1c2de206d",
   "metadata": {},
   "source": [
    "### This project is about predicting stock market prices using LSTM (Long Short Term Memory) model"
   ]
  },
  {
   "cell_type": "markdown",
   "id": "656716bd-16ba-43e1-9f9d-3cec20339244",
   "metadata": {},
   "source": [
    "#### Add necessary imports"
   ]
  },
  {
   "cell_type": "code",
   "execution_count": 1,
   "id": "945fd0c8-d0c9-4aee-b310-5f56efea6d8a",
   "metadata": {
    "editable": true,
    "slideshow": {
     "slide_type": ""
    },
    "tags": []
   },
   "outputs": [],
   "source": [
    "import os\n",
    "import numpy as np\n",
    "import matplotlib.pyplot as plt\n",
    "import matplotlib.dates as mdates\n",
    "import pandas as pd\n",
    "import datetime as dt\n",
    "\n",
    "from sklearn.preprocessing import MinMaxScaler\n",
    "from tensorflow.keras.models import Sequential, load_model\n",
    "from tensorflow.keras.layers import Dense, Dropout, LSTM\n",
    "from tensorflow.keras.callbacks import EarlyStopping\n",
    "from tensorflow.keras import Input"
   ]
  },
  {
   "cell_type": "markdown",
   "id": "6c5c9549-b314-4cf9-86dd-08411ee972b6",
   "metadata": {},
   "source": [
    "#### 1. Reading and normalizing data"
   ]
  },
  {
   "cell_type": "markdown",
   "id": "8ffc1732-1342-4a47-84b1-344269c6945f",
   "metadata": {},
   "source": [
    "**To make the column names be in python syntax (snake_case) we have to**\n",
    "1. *Turn everything into lowercase*\n",
    "2. *Replace spaces with underscore*\n",
    "\n",
    "**Now we just have to turn the _date_ column into _datetime_ since it is _object_**"
   ]
  },
  {
   "cell_type": "markdown",
   "id": "8aad5d85-0ade-4609-9ab7-8d12daabf7ab",
   "metadata": {},
   "source": [
    "**Purpose:** Reads a CSV file and performs basic preprocessing such as renaming columns to lowercase and converting the 'date' column to datetime format.\n",
    "\n",
    "**Parameters:**\n",
    "- `csv_path` (str): The path to the CSV file.\n",
    "\n",
    "**Returns:**\n",
    "- `df` (DataFrame): A pandas DataFrame with normalized column names and converted date column.\n"
   ]
  },
  {
   "cell_type": "code",
   "execution_count": 2,
   "id": "57103c2a-e9e8-456a-896c-215cae0d726a",
   "metadata": {},
   "outputs": [],
   "source": [
    "def read_and_normalize_csv(csv_path):\n",
    "    df = pd.read_csv(csv_path) # Read csv file\n",
    "    df.columns = df.columns.str.lower() # Turn names into lowercase\n",
    "    df.columns = df.columns.str.replace(' ', '_') # Replace spaces with underscores\n",
    "    df['date'] = pd.to_datetime(df['date']) # Turn date column into datetime\n",
    "    return df"
   ]
  },
  {
   "cell_type": "markdown",
   "id": "8a4dc184-bfa6-436f-935d-bf1c97c9983c",
   "metadata": {},
   "source": [
    "#### 2. Split the whole dataset into 2 separate datasets"
   ]
  },
  {
   "cell_type": "markdown",
   "id": "0b7c4ed1-377c-4da1-8334-f4d2a6bc8067",
   "metadata": {},
   "source": [
    "**Purpose:** Splits the dataset into training and testing sets based on a specified date.\n",
    "\n",
    "**Parameters:**\n",
    "- `dataframe` (DataFrame): The entire dataset as a pandas DataFrame.\n",
    "- `date` (str): The date used to split the data (format: 'YYYY-MM-DD').\n",
    "  \n",
    "**Returns:**\n",
    "- `data` (DataFrame): The subset of data before the split date (training data).\n",
    "- `test` (DataFrame): The subset of data from the split date onwards (testing data)."
   ]
  },
  {
   "cell_type": "code",
   "execution_count": 3,
   "id": "0a07425a-9c1e-4b51-8e2a-6388550fe5f8",
   "metadata": {},
   "outputs": [],
   "source": [
    "def split_datasets_by_date(dataframe, date):\n",
    "    data = dataframe[dataframe['date'] < date]\n",
    "    test = dataframe[dataframe['date'] >= date]\n",
    "    return data, test"
   ]
  },
  {
   "cell_type": "markdown",
   "id": "76edbb95-c344-4a47-8b40-11d3a301c5bd",
   "metadata": {},
   "source": [
    "#### 3. Scale Data"
   ]
  },
  {
   "cell_type": "markdown",
   "id": "3c7b8778-dd2e-41b3-a5e8-e8c3781f299d",
   "metadata": {},
   "source": [
    "**Purpose:** Scales the dataset values to a specified range using MinMaxScaler.\n",
    "\n",
    "**Parameters:**\n",
    "- `data` (numpy array): The data to be scaled, typically a column of values from the DataFrame.\n",
    "- `feature_range` (tuple): The desired range for scaling (default is (0, 1)).\n",
    "  \n",
    "**Returns:**\n",
    "- `scaled_data` (numpy array): The scaled data.\n",
    "- `scaler` (MinMaxScaler object): The scaler object used for scaling, which can be used later to inverse the scaling.\n"
   ]
  },
  {
   "cell_type": "code",
   "execution_count": 4,
   "id": "091d967f-7dfe-43e7-981e-85c1d2e1bdc2",
   "metadata": {},
   "outputs": [],
   "source": [
    "def scale_data(data, feature_range=(0,1)):\n",
    "    scaler = MinMaxScaler(feature_range=feature_range)\n",
    "    scaled_data = scaler.fit_transform(data)\n",
    "    return scaled_data, scaler"
   ]
  },
  {
   "cell_type": "markdown",
   "id": "5cf3bbf5-b083-456e-8bbc-384a3f9ad6ae",
   "metadata": {},
   "source": [
    "#### 4. Prepare Training Data"
   ]
  },
  {
   "cell_type": "markdown",
   "id": "9e1f620d-acb1-4173-8ff6-1aaa04004e64",
   "metadata": {},
   "source": [
    " **Purpose:** Prepares the training data by creating sequences of input data (X) and corresponding output data (Y).\n",
    " \n",
    "**Parameters:**\n",
    "- `scaled_data` (numpy array): The scaled data (e.g., closing prices).\n",
    "- `prediction_days` (int): The number of previous days used to predict the next day (sequence length).\n",
    "\n",
    "**Returns:**\n",
    "- `x_train` (numpy array): The input sequences for training.\n",
    "- `y_train` (numpy array): The corresponding target values for training."
   ]
  },
  {
   "cell_type": "code",
   "execution_count": 5,
   "id": "7ca38067-811f-4094-8a03-a9585e492c0b",
   "metadata": {},
   "outputs": [],
   "source": [
    "def prepare_training_data(scaled_data, prediction_days):\n",
    "    x_train, y_train = [], []\n",
    "\n",
    "    for x in range(prediction_days, len(scaled_data)):\n",
    "        x_train.append(scaled_data[x-prediction_days:x, 0])\n",
    "        y_train.append(scaled_data[x, 0])\n",
    "\n",
    "    x_train, y_train = np.array(x_train), np.array(y_train)\n",
    "    x_train = np.reshape(x_train, (x_train.shape[0], x_train.shape[1], 1))\n",
    "\n",
    "    return x_train, y_train"
   ]
  },
  {
   "cell_type": "markdown",
   "id": "9628fb4f-d3b7-4e7b-ae3c-9b12a8a2ed7e",
   "metadata": {},
   "source": [
    "#### 5. Build LSTM Model"
   ]
  },
  {
   "cell_type": "markdown",
   "id": "33df66ef-f93c-42d0-a72f-affe9ed1a184",
   "metadata": {},
   "source": [
    "**Purpose:** \n",
    "Constructs and compiles an LSTM neural network for time series prediction.\n",
    "\n",
    "**Parameters:**\n",
    "\n",
    "- `input_shape` (tuple): The shape of the input data (sequence length, number of features).\n",
    "- `units` (int): The number of LSTM units (default is 50).\n",
    "- `dropout_rate` (float): The dropout rate to prevent overfitting (default is 0.2).\n",
    "- \n",
    "**Returns:**\n",
    "  \n",
    "- `model` (Sequential object): The compiled LSTM model."
   ]
  },
  {
   "cell_type": "code",
   "execution_count": 6,
   "id": "1d13f7ed-0d6f-4be0-9758-2aeaf6417f69",
   "metadata": {},
   "outputs": [],
   "source": [
    "def build_lstm_model(input_shape, units=50, dropout_rate=0.2):\n",
    "    model = Sequential()\n",
    "\n",
    "    # Define the input layer\n",
    "    model.add(Input(shape=input_shape))\n",
    "\n",
    "    # Add LSTM layers\n",
    "    model.add(LSTM(units=units, return_sequences=True))\n",
    "    model.add(Dropout(dropout_rate))\n",
    "\n",
    "    model.add(LSTM(units=units, return_sequences=True))\n",
    "    model.add(Dropout(dropout_rate))\n",
    "\n",
    "    model.add(LSTM(units=units))\n",
    "    model.add(Dropout(dropout_rate))\n",
    "\n",
    "    # Add the output layer\n",
    "    model.add(Dense(units=1))  # Prediction of the next closing value\n",
    "\n",
    "    model.compile(optimizer='adam', loss='mean_squared_error')\n",
    "    return model"
   ]
  },
  {
   "cell_type": "markdown",
   "id": "458c4f3e-372f-4cb5-a899-adbe602a6f7c",
   "metadata": {},
   "source": [
    "#### 6. Prepare Test Data"
   ]
  },
  {
   "cell_type": "markdown",
   "id": "cb373b47-e3b0-4501-91b8-e507167de7bd",
   "metadata": {},
   "source": [
    "**Purpose:** \n",
    "Prepares the test data for making predictions by creating sequences similar to the training data.\n",
    "\n",
    "**Parameters:**\n",
    "\n",
    "- `dataframe` (DataFrame): The entire dataset.\n",
    "- `test_data` (DataFrame): The testing portion of the dataset.\n",
    "- `prediction_days` (int): The number of previous days used to predict the next day (sequence length).\n",
    "- `scaler` (MinMaxScaler object): The scaler used to scale the data.\n",
    "\n",
    "**Returns:**\n",
    "- `x_test` (numpy array): The input sequences for testing."
   ]
  },
  {
   "cell_type": "code",
   "execution_count": 7,
   "id": "0f7799b6-862d-4554-9462-4099a6213aa7",
   "metadata": {},
   "outputs": [],
   "source": [
    "def prepare_test_data(dataframe, test_data, prediction_days, scaler):\n",
    "    total_dataset = pd.concat((dataframe['close'], test_data['close']), axis=0)\n",
    "    model_inputs = total_dataset[len(total_dataset) - len(test_data) - prediction_days:].values\n",
    "    model_inputs = model_inputs.reshape(-1, 1)\n",
    "    model_inputs = scaler.transform(model_inputs)\n",
    "\n",
    "    x_test = []\n",
    "\n",
    "    for x in range(prediction_days, len(model_inputs)):\n",
    "        x_test.append(model_inputs[x-prediction_days:x, 0])\n",
    "\n",
    "    x_test = np.array(x_test)\n",
    "    x_test = np.reshape(x_test, (x_test.shape[0], x_test.shape[1], 1))\n",
    "\n",
    "    return x_test"
   ]
  },
  {
   "cell_type": "markdown",
   "id": "01c8e7dd-0af8-43ae-bdc0-32b76376cdc8",
   "metadata": {},
   "source": [
    "#### 7. Plot Predictions"
   ]
  },
  {
   "cell_type": "markdown",
   "id": "c864b9e4-f744-4e39-9d86-5dd69d38f56b",
   "metadata": {},
   "source": [
    "**Purpose:** \n",
    "Plots the actual and predicted stock prices for visualization.\n",
    "\n",
    "**Parameters:**\n",
    "- `actual_price` (numpy array): The actual stock prices (test data).\n",
    "- `predicted_price` (numpy array): The predicted stock prices generated by the model.\n",
    "- `stock_ticker_name` (str): The name of the stock being predicted (used for labeling).\n",
    "\n",
    "**Returns:** None"
   ]
  },
  {
   "cell_type": "code",
   "execution_count": 8,
   "id": "ae6e64e4-baaa-4abf-92bb-5948cdea8da0",
   "metadata": {},
   "outputs": [],
   "source": [
    "def plot_predictions(actual_prices, predicted_prices, stock_ticker_name, test_dates):\n",
    "    plt.figure(figsize=(10, 6))\n",
    "    \n",
    "    # Plot actual prices\n",
    "    plt.plot(test_dates, actual_prices, color='black', label=f'Actual {stock_ticker_name} Price')\n",
    "    \n",
    "    # Plot predicted prices\n",
    "    plt.plot(test_dates, predicted_prices, color='green', label=f'Predicted {stock_ticker_name} Price')\n",
    "    \n",
    "    # Formatting the plot\n",
    "    plt.title(f'{stock_ticker_name} Share Price')\n",
    "    plt.xlabel('Date')\n",
    "    plt.ylabel(f'{stock_ticker_name} Share Price')\n",
    "    \n",
    "    # Rotate and format date labels\n",
    "    plt.xticks(rotation=45)\n",
    "    plt.gca().xaxis.set_major_formatter(mdates.DateFormatter('%Y-%m-%d'))\n",
    "    plt.gca().xaxis.set_major_locator(mdates.MonthLocator(interval=1))  # Adjust this as needed\n",
    "    \n",
    "    plt.legend()\n",
    "    plt.tight_layout()\n",
    "    plt.show()"
   ]
  },
  {
   "cell_type": "markdown",
   "id": "40fa108d-3b0e-4897-a3a1-8b5f39a09b99",
   "metadata": {},
   "source": [
    "#### 8. Predict Future Prices"
   ]
  },
  {
   "cell_type": "markdown",
   "id": "ddb9dd17-3087-4d20-8f87-f1d535e27ca0",
   "metadata": {},
   "source": [
    "**Purpose:** \n",
    "Predicts the next day's stock price based on the latest available data.\n",
    "\n",
    "**Parameters:**\n",
    "- `model` (Sequential object): The trained LSTM model.\n",
    "- `model_inputs` (numpy array): The input data for the model to predict the next day.\n",
    "- `prediction_days` (int): The number of previous days used to predict the next day (sequence length).\n",
    "- `scaler` (MinMaxScaler object): The scaler used to inverse transform the predicted value.\n",
    "\n",
    "**Returns:**\n",
    "- `prediction` (numpy array): The predicted stock price for the next day."
   ]
  },
  {
   "cell_type": "code",
   "execution_count": 9,
   "id": "41399728-c42c-4b93-a49e-55eab9d6e979",
   "metadata": {},
   "outputs": [],
   "source": [
    "def predict_future_prices(model, model_inputs, prediction_days, scaler):\n",
    "    real_data = [model_inputs[len(model_inputs) + 1 - prediction_days:len(model_inputs + 1), 0]]\n",
    "    real_data = np.array(real_data)\n",
    "    real_data = np.reshape(real_data, (real_data.shape[0], real_data.shape[1], 1))\n",
    "\n",
    "    prediction = model.predict(real_data)\n",
    "    prediction = scaler.inverse_transform(prediction)\n",
    "    return prediction"
   ]
  },
  {
   "cell_type": "markdown",
   "id": "b998c738-783c-46a0-84e6-f9e371787d7d",
   "metadata": {},
   "source": [
    "#### 9. Save Model _(optional)_"
   ]
  },
  {
   "cell_type": "markdown",
   "id": "99111eb5-179e-4e1d-88d8-c5744efa9392",
   "metadata": {},
   "source": [
    "**Purpose:** \n",
    "Saves the entire model, including the architecture, weights, and optimizer state, to a specified file.\n",
    "\n",
    "**Parameters:**\n",
    "- `model` (Sequential object): The trained LSTM model to be saved.\n",
    "- `file_path` (str): The path where the model should be saved.\n",
    "\n",
    "**Returns:** None"
   ]
  },
  {
   "cell_type": "code",
   "execution_count": 10,
   "id": "fddb8b21-936a-4598-ad34-c4ab5f045322",
   "metadata": {},
   "outputs": [],
   "source": [
    "def save_model(model, file_path):\n",
    "    model.save(file_path)"
   ]
  },
  {
   "cell_type": "markdown",
   "id": "6d9359e9-90e1-4104-9304-d7a443d040c5",
   "metadata": {},
   "source": [
    "#### 10. Load Model"
   ]
  },
  {
   "cell_type": "markdown",
   "id": "d87abfe1-302d-4d4d-91af-2f0fb4ee6518",
   "metadata": {},
   "source": [
    "**Purpose:** \n",
    "Loads a previously saved model from a specified file.\n",
    "\n",
    "**Parameters:**\n",
    "- `file_path` (str): The path to the saved model file.\n",
    "\n",
    "**Returns:**\n",
    "- `model` (Sequential object): The loaded LSTM model."
   ]
  },
  {
   "cell_type": "code",
   "execution_count": 11,
   "id": "50fa63cf-8473-47b6-a13f-94373ac531f4",
   "metadata": {},
   "outputs": [],
   "source": [
    "def load_saved_model(file_path):\n",
    "    return load_model(file_path)"
   ]
  },
  {
   "cell_type": "markdown",
   "id": "4bed57e1-5dfc-4400-a363-1ce9ced7645c",
   "metadata": {},
   "source": [
    "#### Main Code"
   ]
  },
  {
   "cell_type": "markdown",
   "id": "545d7429-9f66-4db5-9126-d70d30a86b68",
   "metadata": {},
   "source": [
    "__IMPORTANT__\n",
    "\n",
    "_All models are trained on split date `2023-01-01` exept for TWTR, to load it and it's correct values, use `2020-01-01`_\n",
    "\n",
    "_That's because all other stocks are downloaded with data up `August 2024` but TWTR is an old dataset ending on `2022-10-27`_"
   ]
  },
  {
   "cell_type": "code",
   "execution_count": 17,
   "id": "23b0d33e-300e-4dea-969b-9306084b486e",
   "metadata": {
    "editable": true,
    "slideshow": {
     "slide_type": ""
    },
    "tags": []
   },
   "outputs": [
    {
     "name": "stdout",
     "output_type": "stream",
     "text": [
      "Loading model from TWTR_saved_model.keras...\n",
      "\u001b[1m23/23\u001b[0m \u001b[32m━━━━━━━━━━━━━━━━━━━━\u001b[0m\u001b[37m\u001b[0m \u001b[1m1s\u001b[0m 19ms/step\n"
     ]
    },
    {
     "data": {
      "image/png": "[encoded data removed]",
      "text/plain": [
       "<Figure size 1000x600 with 1 Axes>"
      ]
     },
     "metadata": {},
     "output_type": "display_data"
    },
    {
     "name": "stdout",
     "output_type": "stream",
     "text": [
      "\u001b[1m1/1\u001b[0m \u001b[32m━━━━━━━━━━━━━━━━━━━━\u001b[0m\u001b[37m\u001b[0m \u001b[1m0s\u001b[0m 316ms/step\n",
      "Predicted price for the next day: [[42.260735]]\n"
     ]
    }
   ],
   "source": [
    "stock_ticker_name = 'TWTR' # Ticker name of the stock (if you use TWTR you should have csv file called twtr-stocks)\n",
    "split_date = '2020-01-01' # Date that will split the dataset into train and test datasets (before that date - train, after - test)\n",
    "epochs = 0 # Epochs of training (use 0 if you want to just load an existing model and not train it any further)\n",
    "batch_size = 256 # Batch Size - The number of data samples used in each iteration of training\n",
    "prediction_days = 30 # The number of previous days used to predict the next day (sequence length).\n",
    "early_stop_patience = 6 # The number of bad results needed to stop the model from training\n",
    "csv_path = f'{stock_ticker_name.lower()}-stocks.csv'\n",
    "model_save_path = f'{stock_ticker_name}_saved_model.keras'\n",
    "\n",
    "# Step 1: Read and normalize the data\n",
    "df = read_and_normalize_csv(csv_path)\n",
    "\n",
    "# Step 2: Split the datasets\n",
    "data, test = split_datasets_by_date(df, split_date)\n",
    "\n",
    "# Step 3: Scale the data\n",
    "scaled_data, scaler = scale_data(data['close'].values.reshape(-1, 1))\n",
    "\n",
    "# Step 4: Prepare the training data\n",
    "x_train, y_train = prepare_training_data(scaled_data, prediction_days)\n",
    "\n",
    "# Step 5: Build and train the model or load it if we already have it saved\n",
    "if epochs:\n",
    "    # Implementing early stopping to prevent performance decrease\n",
    "    early_stopping = EarlyStopping(monitor='loss', patience=early_stop_patience, restore_best_weights=True)\n",
    "    if os.path.exists(model_save_path):\n",
    "        print(f\"Loading model from {model_save_path}...\")\n",
    "        model = load_saved_model(model_save_path)\n",
    "        \n",
    "        print(f\"Continuing training for {epochs} more epochs...\")\n",
    "        model.fit(x_train, y_train, epochs=epochs, batch_size=batch_size, callbacks=[early_stopping])\n",
    "        \n",
    "        # Save the model after additional training\n",
    "        # save_model(model, model_save_path)\n",
    "        # print(f\"Existing model saved to {model_save_path} after additional training.\")\n",
    "    else:\n",
    "        print(\"Model not found. Training a new model...\")\n",
    "        \n",
    "        # Step 5: Build the model \n",
    "        model = build_lstm_model(input_shape=(x_train.shape[1], 1))\n",
    "        \n",
    "        # Train the model\n",
    "        model.fit(x_train, y_train, epochs=epochs, batch_size=batch_size, callbacks=[early_stopping])\n",
    "        \n",
    "        # Save the model after training\n",
    "        save_model(model, model_save_path)\n",
    "        print(f\"Model saved to {model_save_path}\")\n",
    "else:\n",
    "    print(f\"Loading model from {model_save_path}...\")\n",
    "    model = load_saved_model(model_save_path)\n",
    "\n",
    "# Step 6: Prepare the test data\n",
    "x_test = prepare_test_data(df, test, prediction_days, scaler)\n",
    "\n",
    "# Step 7: Make predictions\n",
    "predicted_prices = model.predict(x_test)\n",
    "predicted_prices = scaler.inverse_transform(predicted_prices)\n",
    "\n",
    "# Step 8: Plot the results\n",
    "test_dates = test['date'].values\n",
    "plot_predictions(test['close'].values, predicted_prices, stock_ticker_name, test_dates)\n",
    "\n",
    "# Step 9: Predict future prices\n",
    "future_prediction = predict_future_prices(model, model_inputs=x_test, prediction_days=prediction_days, scaler=scaler)\n",
    "print(f\"Predicted price for the next day: {future_prediction}\")"
   ]
  },
  {
   "cell_type": "markdown",
   "id": "005befd1-a0f0-4ea8-b1d4-70ec22867508",
   "metadata": {},
   "source": [
    "##### If you like the output, save the model by running the cell below"
   ]
  },
  {
   "cell_type": "code",
   "execution_count": null,
   "id": "65468290-f0e2-4d59-b70b-3c77022b1edd",
   "metadata": {},
   "outputs": [],
   "source": [
    "#save_model(model, \"test.keras\")"
   ]
  },
  {
   "cell_type": "code",
   "execution_count": null,
   "id": "d9bfe307-ac19-45f5-9ba2-c36888064370",
   "metadata": {},
   "outputs": [],
   "source": []
  }
 ],
 "metadata": {
  "kernelspec": {
   "display_name": "Python 3 (ipykernel)",
   "language": "python",
   "name": "python3"
  },
  "language_info": {
   "codemirror_mode": {
    "name": "ipython",
    "version": 3
   },
   "file_extension": ".py",
   "mimetype": "text/x-python",
   "name": "python",
   "nbconvert_exporter": "python",
   "pygments_lexer": "ipython3",
   "version": "3.11.7"
  }
 },
 "nbformat": 4,
 "nbformat_minor": 5
}
