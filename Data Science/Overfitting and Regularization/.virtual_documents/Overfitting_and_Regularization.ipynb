


import numpy as np
import matplotlib.pyplot as plt
from sklearn.preprocessing import PolynomialFeatures
from sklearn.linear_model import LinearRegression
from sklearn.model_selection import train_test_split
from sklearn.linear_model import Ridge, Lasso, ElasticNet
from sklearn.metrics import mean_squared_error










































































np.random.seed(0)
X = np.random.rand(150, 1) * 10
y = 2 * X + 3 + np.random.randn(150, 1) * 2





X_train, X_test, y_train, y_test = train_test_split(X, y, test_size=0.1, random_state=42)





poly = PolynomialFeatures(degree=10) 
X_train_poly = poly.fit_transform(X_train)
X_test_poly = poly.transform(X_test)





model = LinearRegression()
model.fit(X_train_poly, y_train);








plt.scatter(X_train, y_train, color='blue', label='Training Data')
plt.scatter(X_test, y_test, color='green', label='Test Data')


# Predictions
X_line = np.linspace(0, 10, 100).reshape(-1, 1)
X_line_poly = poly.transform(X_line)
y_line = model.predict(X_line_poly)


plt.plot(X_line, y_line, color='red', label='Overfitted Model')
plt.legend()
plt.show()








# L2 Regularization (Ridge)
ridge_model = Ridge(alpha=2)
ridge_model.fit(X_train_poly, y_train);


# L1 Regularization (Lasso)
lasso_model = Lasso(alpha=0.01, max_iter=10000)
lasso_model.fit(X_train_poly, y_train);


# Plotting the regularized models
y_ridge = ridge_model.predict(X_line_poly)
y_lasso = lasso_model.predict(X_line_poly)

plt.plot(X_line, y_line, color='red', label='Overfitted Model')
plt.plot(X_line, y_ridge, color='blue', label='Ridge Regularization')
plt.plot(X_line, y_lasso, color='green', label='Lasso Regularization')
plt.legend()
plt.show()








# Predictions for training and test sets
y_train_pred = model.predict(X_train_poly)
y_test_pred = model.predict(X_test_poly)

y_train_ridge_pred = ridge_model.predict(X_train_poly)
y_test_ridge_pred = ridge_model.predict(X_test_poly)

y_train_lasso_pred = lasso_model.predict(X_train_poly)
y_test_lasso_pred = lasso_model.predict(X_test_poly)


# Calculate Mean Squared Error
mse_train = mean_squared_error(y_train, y_train_pred)
mse_test = mean_squared_error(y_test, y_test_pred)

mse_train_ridge = mean_squared_error(y_train, y_train_ridge_pred)
mse_test_ridge = mean_squared_error(y_test, y_test_ridge_pred)

mse_train_lasso = mean_squared_error(y_train, y_train_lasso_pred)
mse_test_lasso = mean_squared_error(y_test, y_test_lasso_pred)


# Displaying the results
print(f'Overfitted Model: Training MSE = {mse_train:.2f}, Test MSE = {mse_test:.2f}')
print(f'Ridge Regularization: Training MSE = {mse_train_ridge:.2f}, Test MSE = {mse_test_ridge:.2f}')
print(f'Lasso Regularization: Training MSE = {mse_train_lasso:.2f}, Test MSE = {mse_test_lasso:.2f}')

















degrees = np.arange(1, 20)
train_errors, test_errors = [], []

for d in degrees:
    poly = PolynomialFeatures(degree=d)
    X_train_poly = poly.fit_transform(X_train)
    X_test_poly = poly.transform(X_test)
    
    model = LinearRegression()
    model.fit(X_train_poly, y_train)
    
    train_errors.append(mean_squared_error(y_train, model.predict(X_train_poly)))
    test_errors.append(mean_squared_error(y_test, model.predict(X_test_poly)))

plt.plot(degrees, train_errors, label='Training Error')
plt.plot(degrees, test_errors, label='Test Error')
plt.xlabel('Model Complexity (Polynomial Degree)')
plt.ylabel('Mean Squared Error')
plt.title('Bias-Variance Tradeoff')
plt.legend()
plt.show()





elastic_net_model = ElasticNet(alpha=0.1, l1_ratio=0.5, max_iter=10000)  # l1_ratio balances L1 and L2
elastic_net_model.fit(X_train_poly, y_train)

X_line_poly = poly.transform(X_line)
y_elastic_net = elastic_net_model.predict(X_line_poly)

plt.plot(X_line, y_elastic_net, color='purple', label='Elastic Net Regularization')

y_train_elastic_net_pred = elastic_net_model.predict(X_train_poly)
y_test_elastic_net_pred = elastic_net_model.predict(X_test_poly)

mse_train_elastic_net = mean_squared_error(y_train, y_train_elastic_net_pred)
mse_test_elastic_net = mean_squared_error(y_test, y_test_elastic_net_pred)


print(f'Overfitted Model: Training MSE = {mse_train:.2f}, Test MSE = {mse_test:.2f}')
print(f'Ridge Regularization: Training MSE = {mse_train_ridge:.2f}, Test MSE = {mse_test_ridge:.2f}')
print(f'Lasso Regularization: Training MSE = {mse_train_lasso:.2f}, Test MSE = {mse_test_lasso:.2f}')
print(f'Elastic Net Regularization: Training MSE = {mse_train_elastic_net:.2f}, Test MSE = {mse_test_elastic_net:.2f}')





























from sklearn.metrics import r2_score
r2_train = r2_score(y_train, y_train_pred)
r2_test = r2_score(y_test, y_test_pred)
print(f'Training Data = {r2_train:.2f}, Test Data = {r2_test:.2f}')









