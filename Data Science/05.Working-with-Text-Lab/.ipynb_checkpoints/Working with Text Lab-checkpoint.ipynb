{
 "cells": [
  {
   "cell_type": "code",
   "execution_count": 63,
   "id": "bb8c5630-11b2-41b9-98a2-f67d6cebc323",
   "metadata": {},
   "outputs": [],
   "source": [
    "import pandas as pd\n",
    "import string\n",
    "from nltk.tokenize import word_tokenize\n",
    "import nltk\n",
    "from nltk.corpus import stopwords\n",
    "from nltk.stem import PorterStemmer\n",
    "from nltk.stem import WordNetLemmatizer\n",
    "from collections import Counter\n",
    "import matplotlib.pyplot as plt\n",
    "import re\n",
    "from sklearn.feature_extraction.text import CountVectorizer\n",
    "from transformers import AutoTokenizer, AutoModel\n",
    "from sklearn.metrics.pairwise import cosine_similarity\n",
    "from sklearn.cluster import AgglomerativeClustering\n",
    "import torch"
   ]
  },
  {
   "cell_type": "markdown",
   "id": "0375379c-19e4-4e50-9f63-5c74cf81ece5",
   "metadata": {},
   "source": [
    "# Working with Text Lab\n",
    "## Information retrieval, preprocessing, and feature extraction"
   ]
  },
  {
   "cell_type": "markdown",
   "id": "d92edf71-988c-4e95-b17f-987095e9246a",
   "metadata": {},
   "source": [
    "In this lab, you'll be looking at and exploring European restaurant reviews. The dataset is rather tiny, but that's just because it has to run on any machine. In real life, just like with images, texts can be several terabytes long.\n",
    "\n",
    "The dataset is located [here](https://www.kaggle.com/datasets/gorororororo23/european-restaurant-reviews) and as always, it's been provided to you in the `data/` folder."
   ]
  },
  {
   "cell_type": "markdown",
   "id": "888cf2cf-1cd7-4538-a7a2-462e80b1df99",
   "metadata": {},
   "source": [
    "### Problem 1. Read the dataset (1 point)\n",
    "Read the dataset, get acquainted with it. Ensure the data is valid before you proceed.\n",
    "\n",
    "How many observations are there? Which country is the most represented? What time range does the dataset represent?\n",
    "\n",
    "Is the sample balanced in terms of restaurants, i.e., do you have an equal number of reviews for each one? Most importantly, is the dataset balanced in terms of **sentiment**?"
   ]
  },
  {
   "cell_type": "code",
   "execution_count": 3,
   "id": "596f1cf0-acfe-4e05-a953-6a2fc1ea2463",
   "metadata": {},
   "outputs": [
    {
     "name": "stdout",
     "output_type": "stream",
     "text": [
      "  Country            Restaurant Name Sentiment  \\\n",
      "0  France  The Frog at Bercy Village  Negative   \n",
      "1  France  The Frog at Bercy Village  Negative   \n",
      "2  France  The Frog at Bercy Village  Negative   \n",
      "3  France  The Frog at Bercy Village  Negative   \n",
      "4  France  The Frog at Bercy Village  Negative   \n",
      "\n",
      "                                Review Title Review Date  \\\n",
      "0                               Rude manager  May 2024 •   \n",
      "1                       A big disappointment  Feb 2024 •   \n",
      "2               Pretty Place with Bland Food  Nov 2023 •   \n",
      "3   Great service and wine but inedible food  Mar 2023 •   \n",
      "4  Avoid- Worst meal in Rome - possibly ever  Nov 2022 •   \n",
      "\n",
      "                                              Review  \n",
      "0  The manager became agressive when I said the c...  \n",
      "1  I ordered a beef fillet ask to be done medium,...  \n",
      "2  This is an attractive venue with welcoming, al...  \n",
      "3  Sadly I  used the high TripAdvisor rating too ...  \n",
      "4  From the start this meal was bad- especially g...  \n",
      "<class 'pandas.core.frame.DataFrame'>\n",
      "RangeIndex: 1502 entries, 0 to 1501\n",
      "Data columns (total 6 columns):\n",
      " #   Column           Non-Null Count  Dtype \n",
      "---  ------           --------------  ----- \n",
      " 0   Country          1502 non-null   object\n",
      " 1   Restaurant Name  1502 non-null   object\n",
      " 2   Sentiment        1502 non-null   object\n",
      " 3   Review Title     1502 non-null   object\n",
      " 4   Review Date      1502 non-null   object\n",
      " 5   Review           1502 non-null   object\n",
      "dtypes: object(6)\n",
      "memory usage: 70.5+ KB\n",
      "None\n",
      "       Country            Restaurant Name Sentiment Review Title Review Date  \\\n",
      "count     1502                       1502      1502         1502        1502   \n",
      "unique       7                          7         2         1343         143   \n",
      "top     France  The Frog at Bercy Village  Positive    Excellent  May 2014 •   \n",
      "freq       512                        512      1237            9         108   \n",
      "\n",
      "                                                   Review  \n",
      "count                                                1502  \n",
      "unique                                               1426  \n",
      "top     I'm afraid we were very let down by this resta...  \n",
      "freq                                                    4  \n"
     ]
    }
   ],
   "source": [
    "df = pd.read_csv('data/European Restaurant Reviews.csv')\n",
    "\n",
    "print(df.head())\n",
    "print(df.info())\n",
    "print(df.describe(include='all'))"
   ]
  },
  {
   "cell_type": "code",
   "execution_count": 4,
   "id": "e2c60d35-adb9-47dc-825c-8108b8e3e6be",
   "metadata": {},
   "outputs": [
    {
     "name": "stdout",
     "output_type": "stream",
     "text": [
      "Number of observations: 1502\n"
     ]
    }
   ],
   "source": [
    "num_observations = df.shape[0]\n",
    "print(f'Number of observations: {num_observations}')"
   ]
  },
  {
   "cell_type": "code",
   "execution_count": 5,
   "id": "ca0a66da-81e5-4adb-949f-c2307087d4c7",
   "metadata": {},
   "outputs": [
    {
     "name": "stdout",
     "output_type": "stream",
     "text": [
      "Most represented country: France with 512 reviews\n"
     ]
    }
   ],
   "source": [
    "country_counts = df['Country'].value_counts()\n",
    "most_represented_country = country_counts.idxmax()\n",
    "most_represented_country_count = country_counts.max()\n",
    "print(f'Most represented country: {most_represented_country} with {most_represented_country_count} reviews')"
   ]
  },
  {
   "cell_type": "code",
   "execution_count": 9,
   "id": "3fedc9ad-8e53-4a57-b17e-2a22bd0aa6b3",
   "metadata": {},
   "outputs": [
    {
     "name": "stdout",
     "output_type": "stream",
     "text": [
      "Time range: 2010-09-01 00:00:00 to 2010-09-01 00:00:00\n"
     ]
    }
   ],
   "source": [
    "df['Review Date'] = pd.to_datetime(df['Review Date'], errors='coerce')\n",
    "\n",
    "min_date = df['Review Date'].min()\n",
    "max_date = df['Review Date'].max()\n",
    "print(f'Time range: {min_date} to {max_date}')"
   ]
  },
  {
   "cell_type": "code",
   "execution_count": 16,
   "id": "16b2d5ab-6c39-474b-9db2-1a671e1ad286",
   "metadata": {},
   "outputs": [
    {
     "name": "stdout",
     "output_type": "stream",
     "text": [
      "The dataset is balanced in terms of restaurants\n"
     ]
    }
   ],
   "source": [
    "restaurant_counts = df['Restaurant Name'].value_counts()\n",
    "balanced_restaurants = restaurant_counts.value_counts().min() == restaurant_counts.value_counts().max()\n",
    "print(f'The dataset is{\"not\" if not balanced_restaurants else \"\"} balanced in terms of restaurants')"
   ]
  },
  {
   "cell_type": "markdown",
   "id": "01a55576-cd3c-4451-b5c8-6a51356a7386",
   "metadata": {},
   "source": [
    "### Problem 2. Getting acquainted with reviews (1 point)\n",
    "Are positive comments typically shorter or longer? Try to define a good, robust metric for \"length\" of a text; it's not necessary just the character count. Can you explain your findings?"
   ]
  },
  {
   "cell_type": "code",
   "execution_count": 18,
   "id": "97901e74-6093-4274-966a-da73ec3a5961",
   "metadata": {},
   "outputs": [
    {
     "name": "stdout",
     "output_type": "stream",
     "text": [
      "Sentiment\n",
      "Negative    140.573585\n",
      "Positive     50.183508\n",
      "Name: Word Count, dtype: float64\n",
      "Average word count for Positive reviews: 50.18350848827809\n",
      "Average word count for Negative reviews: 140.57358490566037\n"
     ]
    }
   ],
   "source": [
    "def word_count(text):\n",
    "    if pd.isna(text):\n",
    "        return 0\n",
    "    return len(text.split())\n",
    "\n",
    "df['Word Count'] = df['Review'].apply(word_count)\n",
    "\n",
    "average_word_count = df.groupby('Sentiment')['Word Count'].mean()\n",
    "print(average_word_count)\n",
    "\n",
    "print(f'Average word count for Positive reviews: {average_word_count[\"Positive\"]}')\n",
    "print(f'Average word count for Negative reviews: {average_word_count[\"Negative\"]}')"
   ]
  },
  {
   "cell_type": "markdown",
   "id": "f8ea46d1-700c-409b-9e98-296c6881389e",
   "metadata": {},
   "source": [
    "\n",
    "**Explanation**\n",
    "\n",
    "On average, negative reviews have a significantly higher word count (140.57 words) compared to positive reviews (50.18 words). This suggests that negative reviews are more detailed or elaborate.\n",
    "\n",
    "People may feel compelled to provide more details when describing their negative experiences. They might include more context, specific issues, or elaborate on what went wrong. (Or just spamming out of frustration, idk)"
   ]
  },
  {
   "cell_type": "markdown",
   "id": "7c440fff-c079-464c-b97d-fffbf3d65baf",
   "metadata": {},
   "source": [
    "### Problem 3. Preprocess the review content (2 points)\n",
    "You'll likely need to do this while working on the problems below, but try to synthesize (and document!) your preprocessing here. Your tasks will revolve around words and their connection to sentiment. While preprocessing, keep in mind the domain (restaurant reviews) and the task (sentiment analysis)."
   ]
  },
  {
   "cell_type": "markdown",
   "id": "bfafd43f-6c8d-4a91-96f6-ec4f24a3eaab",
   "metadata": {},
   "source": [
    "**Convert to Lowercase:**\n",
    "\n",
    "Text should be converted to lowercase to ensure uniformity. This avoids treating the same word with different cases as distinct.aon)\n"
   ]
  },
  {
   "cell_type": "code",
   "execution_count": 20,
   "id": "7114fcf9-c63a-41b2-9ff9-591a15d2ebe5",
   "metadata": {},
   "outputs": [],
   "source": [
    "df['Review'] = df['Review'].str.lower()"
   ]
  },
  {
   "cell_type": "markdown",
   "id": "5d80a3de-1199-434a-8ab4-5aa52a7f63c4",
   "metadata": {},
   "source": [
    "**Remove Punctuation:**\n",
    "\n",
    "Punctuation marks do not contribute to sentiment analysis and should be removed."
   ]
  },
  {
   "cell_type": "code",
   "execution_count": 21,
   "id": "303903ad-f497-4c05-8621-621fa17658c4",
   "metadata": {},
   "outputs": [],
   "source": [
    "def remove_punctuation(text):\n",
    "    return text.translate(str.maketrans('', '', string.punctuation))\n",
    "\n",
    "df['Review'] = df['Review'].apply(remove_punctuation)"
   ]
  },
  {
   "cell_type": "markdown",
   "id": "359747ea-db9f-4e53-a3db-6ba70455ce2d",
   "metadata": {},
   "source": [
    "**Remove Numbers:**\n",
    "\n",
    "Numbers might not be relevant for sentiment analysis and can be removed."
   ]
  },
  {
   "cell_type": "code",
   "execution_count": 22,
   "id": "861a968b-1f57-48f4-9975-301c51ca1eec",
   "metadata": {},
   "outputs": [],
   "source": [
    "def remove_numbers(text):\n",
    "    return ''.join([i for i in text if not i.isdigit()])\n",
    "\n",
    "df['Review'] = df['Review'].apply(remove_numbers)"
   ]
  },
  {
   "cell_type": "markdown",
   "id": "621280a2-e327-4152-abf6-6513ef23abc1",
   "metadata": {},
   "source": [
    "**Remove Extra Whitespace:**\n",
    "\n",
    "Extra spaces should be trimmed to ensure clean text."
   ]
  },
  {
   "cell_type": "code",
   "execution_count": 23,
   "id": "2787d903-c49a-4973-9619-fe89dee88b80",
   "metadata": {},
   "outputs": [],
   "source": [
    "df['Review'] = df['Review'].str.strip()\n",
    "df['Review'] = df['Review'].str.replace('\\s+', ' ', regex=True)"
   ]
  },
  {
   "cell_type": "markdown",
   "id": "db689e23-2a4f-4a40-a813-45550e819d31",
   "metadata": {},
   "source": [
    "##### Tokenization\n",
    "\n",
    "**Objective:** Split text into individual words or tokens."
   ]
  },
  {
   "cell_type": "code",
   "execution_count": 25,
   "id": "7f842767-3b2b-461c-929c-5f3c8366dffb",
   "metadata": {},
   "outputs": [
    {
     "name": "stderr",
     "output_type": "stream",
     "text": [
      "[nltk_data] Downloading package punkt to\n",
      "[nltk_data]     C:\\Users\\deadh\\AppData\\Roaming\\nltk_data...\n",
      "[nltk_data]   Unzipping tokenizers\\punkt.zip.\n"
     ]
    }
   ],
   "source": [
    "nltk.download('punkt')\n",
    "\n",
    "df['Tokens'] = df['Review'].apply(word_tokenize)"
   ]
  },
  {
   "cell_type": "markdown",
   "id": "c540e805-02b5-4daa-880b-4cbda326c292",
   "metadata": {},
   "source": [
    "##### Stopword Removal\n",
    "**Objective:** Remove common words that don’t contribute much to the sentiment, such as “the,” “is,” “and,” etc."
   ]
  },
  {
   "cell_type": "code",
   "execution_count": 28,
   "id": "318cb941-f097-43e8-96d4-1028a314ee34",
   "metadata": {},
   "outputs": [
    {
     "name": "stderr",
     "output_type": "stream",
     "text": [
      "[nltk_data] Downloading package stopwords to\n",
      "[nltk_data]     C:\\Users\\deadh\\AppData\\Roaming\\nltk_data...\n",
      "[nltk_data]   Unzipping corpora\\stopwords.zip.\n"
     ]
    }
   ],
   "source": [
    "nltk.download('stopwords')\n",
    "\n",
    "stop_words = set(stopwords.words('english'))\n",
    "\n",
    "def remove_stopwords(tokens):\n",
    "    return [word for word in tokens if word not in stop_words]\n",
    "\n",
    "df['Tokens'] = df['Tokens'].apply(remove_stopwords)"
   ]
  },
  {
   "cell_type": "markdown",
   "id": "93763d78-eb2c-4cd6-a39b-a2a16390b652",
   "metadata": {},
   "source": [
    "##### Stemming or Lemmatization\n",
    "**Objective:** Reduce words to their base or root form to treat different forms of a word as the same entity.\n",
    "\n",
    "- **Stemming:** Trims words to their base form but may sometimes cut off too aggressively."
   ]
  },
  {
   "cell_type": "code",
   "execution_count": 30,
   "id": "617bb59e-6ab9-46f3-8fe6-0f3057f33ae6",
   "metadata": {},
   "outputs": [],
   "source": [
    "stemmer = PorterStemmer()\n",
    "\n",
    "def stem_tokens(tokens):\n",
    "    return [stemmer.stem(token) for token in tokens]\n",
    "\n",
    "df['Tokens'] = df['Tokens'].apply(stem_tokens)"
   ]
  },
  {
   "cell_type": "markdown",
   "id": "8cdd87f6-04c8-4e82-9aeb-fa55593c5339",
   "metadata": {},
   "source": [
    "- **Lemmatization:** More sophisticated and accurate than stemming as it considers the context of words."
   ]
  },
  {
   "cell_type": "code",
   "execution_count": 33,
   "id": "277a2fa3-33b6-4fd3-ae09-04e96f067c1a",
   "metadata": {},
   "outputs": [
    {
     "name": "stderr",
     "output_type": "stream",
     "text": [
      "[nltk_data] Downloading package wordnet to\n",
      "[nltk_data]     C:\\Users\\deadh\\AppData\\Roaming\\nltk_data...\n",
      "[nltk_data]   Package wordnet is already up-to-date!\n"
     ]
    }
   ],
   "source": [
    "nltk.download('wordnet')\n",
    "lemmatizer = WordNetLemmatizer()\n",
    "\n",
    "def lemmatize_tokens(tokens):\n",
    "    return [lemmatizer.lemmatize(token) for token in tokens]\n",
    "\n",
    "df['Tokens'] = df['Tokens'].apply(lemmatize_tokens)"
   ]
  },
  {
   "cell_type": "markdown",
   "id": "34bdbf12-66e7-4346-b977-0b05f261fa1d",
   "metadata": {},
   "source": [
    "##### Handling Special Cases\n",
    "**Objective:** Address domain-specific terms or special cases.\n",
    "\n",
    "- **Handling Negations:** Negations can change the sentiment of the text and should be handled carefully."
   ]
  },
  {
   "cell_type": "code",
   "execution_count": 35,
   "id": "aeb9f06c-63d7-4b14-8c77-bea218fcfd68",
   "metadata": {},
   "outputs": [],
   "source": [
    "def handle_negations(tokens):\n",
    "    negations = {'not', 'no', 'never'}\n",
    "    result = []\n",
    "    skip = False\n",
    "    for i, token in enumerate(tokens):\n",
    "        if token in negations:\n",
    "            skip = True\n",
    "            continue\n",
    "        if skip:\n",
    "            result.append(token + '_NEG')\n",
    "            skip = False\n",
    "        else:\n",
    "            result.append(token)\n",
    "    return result\n",
    "\n",
    "df['Tokens'] = df['Tokens'].apply(handle_negations)"
   ]
  },
  {
   "cell_type": "markdown",
   "id": "8899e4be-4afd-4dc1-83fb-5fd42641fb86",
   "metadata": {},
   "source": [
    "##### Final Preprocessing\n",
    "**Objective:** Ensure consistency and prepare data for model input."
   ]
  },
  {
   "cell_type": "code",
   "execution_count": 37,
   "id": "163ddfea-9d74-4cc5-8400-8eb7a578d756",
   "metadata": {},
   "outputs": [],
   "source": [
    "df['Cleaned_Review'] = df['Tokens'].apply(lambda tokens: ' '.join(tokens))\n",
    "\n",
    "df.to_csv('data/preprocessed_reviews.csv', index=False)"
   ]
  },
  {
   "cell_type": "markdown",
   "id": "2a8532af-2411-4d71-a003-0813be3f98de",
   "metadata": {},
   "source": [
    "### Problem 3. Top words (1 point)\n",
    "Use a simple word tokenization and count the top 10 words in positive reviews; then the top 10 words in negative reviews*. Once again, try to define what \"top\" words means. Describe and document your process. Explain your results.\n",
    "\n",
    "\\* Okay, you may want to see top N words (with $N \\ge 10$)."
   ]
  },
  {
   "cell_type": "markdown",
   "id": "20cf6495-aa57-4fb4-b560-41bf3a0466ef",
   "metadata": {},
   "source": [
    "1. Define \"Top\" Words\n",
    "In this context, \"top\" words refer to the most frequently occurring words within each sentiment category (positive and negative reviews). We'll use word frequency counts to determine the top words.\n",
    "\n",
    "2. Process\n",
    "Here’s a structured approach to find and analyze the top 10 words for each sentiment category:\n",
    "\n",
    "Step 1: Preprocess the Reviews\n",
    "We should ensure that the reviews are preprocessed as described (cleaning, tokenization, stopword removal). \n",
    "\n",
    "Step 2: Tokenize and Count Words by Sentiment\n",
    "Filter Reviews by Sentiment:\n",
    "\n",
    "Separate the dataset into positive and negative reviews.\n",
    "Tokenize the Reviews:\n",
    "\n",
    "Tokenize the text of reviews into words.\n",
    "Count Word Frequencies:\n",
    "\n",
    "Count the frequency of each word in both positive and negative reviews.\n",
    "Identify Top Words:\n",
    "\n",
    "Extract the top 10 words based on their frequency.\n",
    "\n",
    "Step 3: Implement the Steps in Code"
   ]
  },
  {
   "cell_type": "code",
   "execution_count": 39,
   "id": "c52a16a3-e3fc-4b95-8ffd-d4b29e12acbc",
   "metadata": {},
   "outputs": [
    {
     "name": "stdout",
     "output_type": "stream",
     "text": [
      "Top 10 Words in Positive Reviews:\n",
      "the: 3371\n",
      "and: 2923\n",
      "a: 1809\n",
      "was: 1323\n",
      "to: 1257\n",
      "we: 1105\n",
      "of: 1066\n",
      "in: 835\n",
      "is: 745\n",
      "food: 734\n",
      "\n",
      "Top 10 Words in Negative Reviews:\n",
      "the: 2190\n",
      "and: 1166\n",
      "to: 932\n",
      "was: 900\n",
      "a: 871\n",
      "we: 850\n",
      "of: 653\n",
      "i: 575\n",
      "for: 534\n",
      "in: 494\n"
     ]
    },
    {
     "data": {
      "image/png": "[encoded data removed]",
      "text/plain": [
       "<Figure size 1000x600 with 1 Axes>"
      ]
     },
     "metadata": {},
     "output_type": "display_data"
    },
    {
     "data": {
      "image/png": "[encoded data removed]",
      "text/plain": [
       "<Figure size 1000x600 with 1 Axes>"
      ]
     },
     "metadata": {},
     "output_type": "display_data"
    }
   ],
   "source": [
    "df['Review'] = df['Review'].str.lower()\n",
    "df['Review'] = df['Review'].str.replace('[^\\w\\s]', '', regex=True)\n",
    "df['Review'] = df['Review'].str.replace('\\d+', '', regex=True)\n",
    "df['Tokens'] = df['Review'].apply(lambda x: x.split())  # Simple tokenization\n",
    "\n",
    "positive_reviews = df[df['Sentiment'] == 'Positive']['Tokens']\n",
    "negative_reviews = df[df['Sentiment'] == 'Negative']['Tokens']\n",
    "\n",
    "def get_top_words(tokens_list, top_n=10):\n",
    "    all_tokens = [token for tokens in tokens_list for token in tokens]\n",
    "    word_counts = Counter(all_tokens)\n",
    "    return word_counts.most_common(top_n)\n",
    "\n",
    "top_positive_words = get_top_words(positive_reviews)\n",
    "top_negative_words = get_top_words(negative_reviews)\n",
    "\n",
    "print(\"Top 10 Words in Positive Reviews:\")\n",
    "for word, count in top_positive_words:\n",
    "    print(f\"{word}: {count}\")\n",
    "\n",
    "print(\"\\nTop 10 Words in Negative Reviews:\")\n",
    "for word, count in top_negative_words:\n",
    "    print(f\"{word}: {count}\")\n",
    "\n",
    "def plot_top_words(top_words, title):\n",
    "    words, counts = zip(*top_words)\n",
    "    plt.figure(figsize=(10, 6))\n",
    "    plt.bar(words, counts, color='skyblue')\n",
    "    plt.title(title)\n",
    "    plt.xlabel('Words')\n",
    "    plt.ylabel('Frequency')\n",
    "    plt.xticks(rotation=45)\n",
    "    plt.show()\n",
    "\n",
    "plot_top_words(top_positive_words, 'Top 10 Words in Positive Reviews')\n",
    "plot_top_words(top_negative_words, 'Top 10 Words in Negative Reviews')"
   ]
  },
  {
   "cell_type": "markdown",
   "id": "790ae91f-2def-41bc-8861-49fc5467b335",
   "metadata": {},
   "source": [
    "### Problem 4. Review titles (2 point)\n",
    "How do the top words you found in the last problem correlate to the review titles? Do the top 10 words (for each sentiment) appear in the titles at all? Do reviews which contain one or more of the top words have the same words in their titles?\n",
    "\n",
    "Does the title of a comment present a good summary of its content? That is, are the titles descriptive, or are they simply meant to catch the attention of the reader?"
   ]
  },
  {
   "cell_type": "code",
   "execution_count": 42,
   "id": "330b83f1-060e-47ae-8035-0b8372eed8d9",
   "metadata": {},
   "outputs": [
    {
     "name": "stdout",
     "output_type": "stream",
     "text": [
      "Top 10 Words in Positive Titles (With Stop Words):\n",
      "great: 225\n",
      "food: 176\n",
      "and: 171\n",
      "in: 113\n",
      "a: 109\n",
      "good: 105\n",
      "place: 102\n",
      "the: 96\n",
      "service: 95\n",
      "excellent: 78\n",
      "\n",
      "Top 10 Words in Negative Titles (With Stop Words):\n",
      "the: 36\n",
      "food: 32\n",
      "of: 32\n",
      "and: 31\n",
      "not: 28\n",
      "service: 25\n",
      "disappointing: 21\n",
      "in: 20\n",
      "a: 19\n",
      "this: 18\n",
      "\n",
      "Top 10 Words in Positive Titles (Without Stop Words):\n",
      "great: 225\n",
      "food: 176\n",
      "good: 105\n",
      "place: 102\n",
      "service: 95\n",
      "excellent: 78\n",
      "best: 78\n",
      "dinner: 74\n",
      "restaurant: 72\n",
      "amazing: 66\n",
      "\n",
      "Top 10 Words in Negative Titles (Without Stop Words):\n",
      "food: 32\n",
      "service: 25\n",
      "disappointing: 21\n",
      "place: 16\n",
      "bad: 15\n",
      "rome: 14\n",
      "great: 12\n",
      "terrible: 12\n",
      "restaurant: 11\n",
      "ad: 11\n"
     ]
    }
   ],
   "source": [
    "def preprocess_text(text):\n",
    "    text = text.lower()\n",
    "    text = re.sub(r'[^\\w\\s]', '', text)  # Remove punctuation\n",
    "    text = re.sub(r'\\d+', '', text)  # Remove numbers\n",
    "    return text\n",
    "\n",
    "df['Cleaned_Title'] = df['Review Title'].apply(preprocess_text)\n",
    "df['Title_Tokens'] = df['Cleaned_Title'].apply(lambda x: word_tokenize(x))\n",
    "\n",
    "def remove_stop_words(tokens):\n",
    "    return [word for word in tokens if word not in stop_words]\n",
    "\n",
    "df['Title_Tokens_No_Stopwords'] = df['Title_Tokens'].apply(remove_stop_words)\n",
    "\n",
    "def get_top_words(tokens_list, top_n=10):\n",
    "    all_tokens = [token for tokens in tokens_list for token in tokens]\n",
    "    word_counts = Counter(all_tokens)\n",
    "    return word_counts.most_common(top_n)\n",
    "\n",
    "positive_titles = df[df['Sentiment'] == 'Positive']['Title_Tokens']\n",
    "negative_titles = df[df['Sentiment'] == 'Negative']['Title_Tokens']\n",
    "\n",
    "positive_titles_no_stopwords = df[df['Sentiment'] == 'Positive']['Title_Tokens_No_Stopwords']\n",
    "negative_titles_no_stopwords = df[df['Sentiment'] == 'Negative']['Title_Tokens_No_Stopwords']\n",
    "\n",
    "top_positive_words = get_top_words(positive_titles)\n",
    "top_negative_words = get_top_words(negative_titles)\n",
    "\n",
    "top_positive_words_no_stopwords = get_top_words(positive_titles_no_stopwords)\n",
    "top_negative_words_no_stopwords = get_top_words(negative_titles_no_stopwords)\n",
    "\n",
    "print(\"Top 10 Words in Positive Titles (With Stop Words):\")\n",
    "for word, count in top_positive_words:\n",
    "    print(f\"{word}: {count}\")\n",
    "\n",
    "print(\"\\nTop 10 Words in Negative Titles (With Stop Words):\")\n",
    "for word, count in top_negative_words:\n",
    "    print(f\"{word}: {count}\")\n",
    "\n",
    "print(\"\\nTop 10 Words in Positive Titles (Without Stop Words):\")\n",
    "for word, count in top_positive_words_no_stopwords:\n",
    "    print(f\"{word}: {count}\")\n",
    "\n",
    "print(\"\\nTop 10 Words in Negative Titles (Without Stop Words):\")\n",
    "for word, count in top_negative_words_no_stopwords:\n",
    "    print(f\"{word}: {count}\")"
   ]
  },
  {
   "cell_type": "markdown",
   "id": "a3a0aa94-23e4-4db1-a780-cd1bd3abb411",
   "metadata": {},
   "source": [
    "### Problem 5. Bag of words (1 point)\n",
    "Based on your findings so far, come up with a good set of settings (hyperparameters) for a bag-of-words model for review titles and contents. It's easiest to treat them separately (so, create two models); but you may also think about a unified representation. I find the simplest way of concatenating the title and content too simplistic to be useful, as it doesn't allow you to treat the title differently (e.g., by giving it more weight).\n",
    "\n",
    "The documentation for `CountVectorizer` is [here](https://scikit-learn.org/stable/modules/generated/sklearn.feature_extraction.text.CountVectorizer.html). Familiarize yourself with all settings; try out different combinations and come up with a final model; or rather - two models :)."
   ]
  },
  {
   "cell_type": "code",
   "execution_count": 49,
   "id": "2ce7892f-cb37-48d3-83fc-0ccb56c2bb1a",
   "metadata": {},
   "outputs": [
    {
     "name": "stdout",
     "output_type": "stream",
     "text": [
      "Top features in Title Vectorizer:\n",
      "['abbie' 'absolutely' 'absolutely best' 'ad' 'ad hoc' 'affordable'\n",
      " 'afternoon' 'aimane' 'albeit' 'albeit overpriced' 'amazing'\n",
      " 'amazing dinner' 'amazing experience' 'amazing food' 'amazing place'\n",
      " 'amazing restaurant' 'ambiance' 'ambience' 'american' 'anniversary']\n",
      "\n",
      "Top features in Content Vectorizer:\n",
      "['abbie' 'able' 'absolutely' 'accommodating' 'actually' 'ad' 'ad hoc'\n",
      " 'ad hoc restaurant' 'add' 'added' 'advance' 'advisor' 'afternoon' 'ago'\n",
      " 'alcohol' 'alek' 'amazing' 'amazing food' 'amazing service' 'ambiance']\n",
      "\n",
      "Top features in Combined Vectorizer:\n",
      "['abbie' 'able' 'absolutely' 'accommodating' 'actually' 'ad' 'ad hoc'\n",
      " 'add' 'advance' 'advisor' 'afternoon' 'ago' 'alcohol' 'alek' 'amazing'\n",
      " 'amazing experience' 'amazing food' 'amazing service' 'ambiance'\n",
      " 'ambience']\n"
     ]
    }
   ],
   "source": [
    "def preprocess_text(text):\n",
    "    text = text.lower()\n",
    "    text = re.sub(r'[^\\w\\s]', '', text) \n",
    "    text = re.sub(r'\\d+', '', text) \n",
    "    return text\n",
    "\n",
    "df['Cleaned_Title'] = df['Review Title'].apply(preprocess_text)\n",
    "df['Cleaned_Review'] = df['Review'].apply(preprocess_text)\n",
    "df['Title_Content'] = df['Cleaned_Title'] + ' ' + df['Cleaned_Review']\n",
    "\n",
    "vectorizer_titles = CountVectorizer(\n",
    "    ngram_range=(1, 2),\n",
    "    stop_words='english',\n",
    "    max_features=500,\n",
    "    min_df=1,\n",
    "    max_df=0.7\n",
    ")\n",
    "\n",
    "X_titles = vectorizer_titles.fit_transform(df['Cleaned_Title'])\n",
    "\n",
    "print(\"Top features in Title Vectorizer:\")\n",
    "top_features_titles = vectorizer_titles.get_feature_names_out()\n",
    "print(top_features_titles[:20])  \n",
    "\n",
    "vectorizer_contents = CountVectorizer(\n",
    "    ngram_range=(1, 3),\n",
    "    stop_words='english',\n",
    "    max_features=1000,\n",
    "    min_df=5,\n",
    "    max_df=0.5\n",
    ")\n",
    "\n",
    "X_contents = vectorizer_contents.fit_transform(df['Cleaned_Review'])\n",
    "\n",
    "print(\"\\nTop features in Content Vectorizer:\")\n",
    "top_features_contents = vectorizer_contents.get_feature_names_out()\n",
    "print(top_features_contents[:20])  \n",
    "\n",
    "vectorizer_combined = CountVectorizer(\n",
    "    ngram_range=(1, 2),\n",
    "    stop_words='english',\n",
    "    max_features=1000,\n",
    "    min_df=5,\n",
    "    max_df=0.5\n",
    ")\n",
    "\n",
    "X_combined = vectorizer_combined.fit_transform(df['Title_Content'])\n",
    "\n",
    "print(\"\\nTop features in Combined Vectorizer:\")\n",
    "top_features_combined = vectorizer_combined.get_feature_names_out()\n",
    "print(top_features_combined[:20])  "
   ]
  },
  {
   "cell_type": "markdown",
   "id": "a337ce0f-2afe-422f-8e9d-beddd5635093",
   "metadata": {},
   "source": [
    "### Problem 6. Deep sentiment analysis models (1 point)\n",
    "Find a suitable model for sentiment analysis in English. Without modifying, training, or fine-tuning the model, make it predict all contents (or better, combinations of titles and contents, if you can). Meaure the accuracy of the model compared to the `sentiment` column in the dataset."
   ]
  },
  {
   "cell_type": "markdown",
   "id": "773d804d-9c83-48ec-be2b-8564d73d908c",
   "metadata": {},
   "source": [
    "### Problem 7. Deep features (embeddings) (1 point)\n",
    "Use the same model to perform feature extraction on the review contents (or contents + titles) instead of direct predictions. You should already be familiar how to do that from your work on images.\n",
    "\n",
    "Use the cosine similarity between texts to try to cluster them. Are there \"similar\" reviews (you'll need to find a way to measure similarity) across different restaurants? Are customers generally in agreement for the same restaurant?"
   ]
  },
  {
   "cell_type": "markdown",
   "id": "c79a585f-1dad-469a-a2ae-31d3981b9e1b",
   "metadata": {},
   "source": [
    "### \\* Problem 8. Explore and model at will\n",
    "In this lab, we focused on preprocessing and feature extraction and we didn't really have a chance to train (or compare) models. The dataset is maybe too small to be conclusive, but feel free to play around with ready-made models, and train your own."
   ]
  },
  {
   "cell_type": "code",
   "execution_count": null,
   "id": "a1e90732-4d96-4692-8588-b9429430a98b",
   "metadata": {},
   "outputs": [],
   "source": []
  }
 ],
 "metadata": {
  "kernelspec": {
   "display_name": "Python 3 (ipykernel)",
   "language": "python",
   "name": "python3"
  },
  "language_info": {
   "codemirror_mode": {
    "name": "ipython",
    "version": 3
   },
   "file_extension": ".py",
   "mimetype": "text/x-python",
   "name": "python",
   "nbconvert_exporter": "python",
   "pygments_lexer": "ipython3",
   "version": "3.11.7"
  }
 },
 "nbformat": 4,
 "nbformat_minor": 5
}
