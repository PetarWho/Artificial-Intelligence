import pandas as pd
import zipfile
import io
import matplotlib.pyplot as plt
import seaborn as sns











zip_file_path = 'data/spotify_most_streamed_2024.zip'

df = None

with zipfile.ZipFile(zip_file_path, 'r') as z:
    csv_filename = z.namelist()[0]

    with z.open(csv_filename) as f:
        df = pd.read_csv(f, encoding='unicode_escape')

print(df.head())






print("Initial Data Types and Column Names:")
print(df.dtypes)
print("\nInitial Column Names:")
print(df.columns)

def clean_column_name(col_name):
    col_name = col_name.strip() 
    col_name = col_name.lower()  
    col_name = col_name.replace(' ', '_') 
    col_name = col_name.replace('(', '').replace(')', '')  
    col_name = col_name.replace('%', 'percent')  
    return col_name

df.columns = df.columns.to_series().apply(clean_column_name)

print("\nCleaned Column Names:")
print(df.columns)

print("\nChecking for unnecessary columns:")
print(df.isna().sum())

df = df.dropna(axis=1, how='all')

print("\nCleaned DataFrame:")
print(df.head())
print("\nData Types After Cleaning:")
print(df.dtypes)






artist_song_count = df['artist'].value_counts()

top_5_artists = artist_song_count.head(5)
print("Top 5 Artists with the Most Songs:")
print(top_5_artists)

clean_songs_df = df[df['explicit_track'] == False]

clean_artist_song_count = clean_songs_df['artist'].value_counts()

top_5_clean_artists = clean_artist_song_count.head(5)
print("\nTop 5 'Clean-Mouthed' Artists with No Explicit Songs:")
print(top_5_clean_artists)






df['spotify_streams'] = pd.to_numeric(df['spotify_streams'].str.replace(',', ''), errors='coerce')

artist_streams = df.groupby('artist')['spotify_streams'].sum()

sorted_artist_streams = artist_streams.sort_values(ascending=False)

top_5_streamed_artists = sorted_artist_streams.head(5)

print("Top 5 Most Streamed Artists:")
print(top_5_streamed_artists)





df['release_date'] = pd.to_datetime(df['release_date'], errors='coerce')

df['release_year'] = df['release_date'].dt.year
df['release_month'] = df['release_date'].dt.month

songs_per_year = df['release_year'].value_counts().sort_index()

plt.figure(figsize=(10, 6))
plt.plot(songs_per_year.index, songs_per_year.values, marker='o')
plt.title('Number of Songs Released Each Year')
plt.xlabel('Year')
plt.ylabel('Number of Songs')
plt.grid(True)
plt.show()

songs_per_month = df['release_month'].value_counts().sort_index()

plt.figure(figsize=(10, 6))
plt.bar(songs_per_month.index, songs_per_month.values, color='orange')
plt.title('Number of Songs Released Each Month')
plt.xlabel('Month')
plt.ylabel('Number of Songs')
plt.grid(True)
plt.show()





playlist_columns = ['spotify_playlist_count', 'apple_music_playlist_count', 
                    'deezer_playlist_count', 'amazon_playlist_count']

df[playlist_columns] = df[playlist_columns].apply(pd.to_numeric, errors='coerce')

correlation_matrix = df[playlist_columns].corr(method='pearson')  
spearman_corr = df[playlist_columns].corr(method='spearman')
kendall_corr = df[playlist_columns].corr(method='kendall')

plt.figure(figsize=(8, 6))
sns.heatmap(correlation_matrix, annot=True, cmap='coolwarm', vmin=-1, vmax=1)
plt.title('Correlation Matrix (Pearson) Between Playlist Counts')
plt.show()

plt.figure(figsize=(8, 6))
sns.heatmap(spearman_corr, annot=True, cmap='coolwarm', vmin=-1, vmax=1)
plt.title('Correlation Matrix (Spearman) Between Playlist Counts')
plt.show()

plt.figure(figsize=(8, 6))
sns.heatmap(kendall_corr, annot=True, cmap='coolwarm', vmin=-1, vmax=1)
plt.title('Correlation Matrix (Kendall) Between Playlist Counts')
plt.show()

sns.pairplot(df[playlist_columns])
plt.suptitle('Pairplot of Playlist Counts Across Different Services', y=1.02)
plt.show()





youtube_columns = ['youtube_views', 'youtube_likes']

df[youtube_columns] = df[youtube_columns].apply(pd.to_numeric, errors='coerce')

df_clean = df.dropna(subset=youtube_columns)

correlation_views_likes = df_clean['youtube_views'].corr(df_clean['youtube_likes'])
print(f'Correlation between YouTube views and likes: {correlation_views_likes:.2f}')

plt.figure(figsize=(8, 6))
sns.scatterplot(x='youtube_views', y='youtube_likes', data=df_clean)
plt.title('YouTube Views vs. Likes')
plt.xlabel('YouTube Views')
plt.ylabel('YouTube Likes')
plt.show()

df_clean['views_to_likes_ratio'] = df_clean['youtube_views'] / df_clean['youtube_likes']

mean_ratio = df_clean['views_to_likes_ratio'].mean()
print(f'Mean YouTube Views-to-Likes Ratio: {mean_ratio:.2f}')

plt.figure(figsize=(8, 6))
sns.histplot(df_clean['views_to_likes_ratio'], kde=True, bins=30)
plt.title('Distribution of YouTube Views-to-Likes Ratio')
plt.xlabel('Views-to-Likes Ratio')
plt.ylabel('Frequency')
plt.show()





df['release_date'] = pd.to_datetime(df['release_date'], errors='coerce')
df['tiktok_views'] = pd.to_numeric(df['tiktok_views'], errors='coerce')
df['release_year'] = df['release_date'].dt.year


# TikTok Views by Year

tiktok_views_by_year = df.groupby('release_year')['tiktok_views'].sum().reset_index()

plt.figure(figsize=(10, 6))
sns.lineplot(data=tiktok_views_by_year, x='release_year', y='tiktok_views', marker='o')
plt.title('TikTok Views by Year of Song Release')
plt.xlabel('Year')
plt.ylabel('Total TikTok Views')
plt.show()

peak_years = tiktok_views_by_year.sort_values(by='tiktok_views', ascending=False).head()
print("Years with the highest TikTok views:")
print(peak_years)


# Popularity of the Most Popular Song vs Mean
mean_tiktok_views_by_year = df.groupby('release_year')['tiktok_views'].mean().reset_index()
max_tiktok_views_by_year = df.groupby('release_year')['tiktok_views'].max().reset_index()

popularity_comparison = pd.merge(mean_tiktok_views_by_year, max_tiktok_views_by_year, on='release_year', suffixes=('_mean', '_max'))

popularity_comparison['popularity_ratio'] = popularity_comparison['tiktok_views_max'] / popularity_comparison['tiktok_views_mean']

plt.figure(figsize=(10, 6))
sns.barplot(data=popularity_comparison, x='release_year', y='popularity_ratio')
plt.title('Ratio of Most Popular Song TikTok Views to Mean TikTok Views by Year')
plt.xlabel('Year')
plt.ylabel('Popularity Ratio')
plt.show()

for year in popularity_comparison['release_year']:
    # Identify the maximum TikTok views for the year
    max_views = popularity_comparison.loc[popularity_comparison['release_year'] == year, 'tiktok_views_max'].values[0]
    
    max_views_song = df[(df['release_year'] == year) & (df['tiktok_views'] == max_views)]
    
    if not max_views_song.empty:
        print(f"Year: {year}, Song: {max_views_song['track'].values[0]}, Artist: {max_views_song['artist'].values[0]}, TikTok Views: {max_views_song['tiktok_views'].values[0]}")
    else:
        print(f"Year: {year} has no data for maximum TikTok views.")






