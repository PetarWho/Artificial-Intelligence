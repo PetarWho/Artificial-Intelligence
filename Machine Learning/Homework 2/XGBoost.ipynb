{
 "cells": [
  {
   "cell_type": "markdown",
   "id": "4de0b192-8499-4ba0-b468-47da90edb926",
   "metadata": {},
   "source": [
    "# XGBoost: A Scalable Tree Boosting System"
   ]
  },
  {
   "cell_type": "markdown",
   "id": "e05bb739-9c2d-4c3e-be96-503e3e208e24",
   "metadata": {},
   "source": [
    "## Introduction\n",
    "Tree boosting is a powerful machine learning technique that achieves state-of-the-art performance across various applications, such as classification, ranking, and regression. The XGBoost paper presents a highly scalable and efficient implementation of gradient tree boosting, making it a preferred choice among data scientists for machine learning competitions and real-world applications. \n",
    "\n",
    "XGBoost introduces several novel contributions:\n",
    "- **Sparsity-aware learning**: Optimized handling of sparse data\n",
    "- **Weighted quantile sketch**: A new method for efficiently handling weighted datasets\n",
    "- **Scalability**: Effective use of cache-aware algorithms, parallelism, and out-of-core computation\n",
    "\n",
    "These innovations make XGBoost a go-to solution for both small-scale and large-scale datasets."
   ]
  },
  {
   "cell_type": "markdown",
   "id": "cdf11f20-75d6-42bd-b8f0-d85b21dffa6d",
   "metadata": {},
   "source": [
    "### Key Techniques\n",
    "\n",
    "#### 1. Regularized Learning Objective\n",
    "XGBoost enhances gradient boosting by introducing a regularized learning objective. The model minimizes the following loss:\n",
    "\n",
    "$$\n",
    "L(\\phi) = \\sum_{i=1}^n l(y_i, \\hat{y}_i) + \\sum_{k=1}^K \\Omega(f_k),\n",
    "$$\n",
    "\n",
    "where:\n",
    "- $ l(y_i, \\hat{y}_i) $ is a differentiable convex loss function, such as mean squared error or logistic loss.\n",
    "- $ \\Omega(f_k) = \\gamma T + \\frac{\\lambda}{2} \\|w\\|^2 $ penalizes model complexity with:\n",
    "  - $ T $: Number of leaves in the tree\n",
    "  - $ w $: Leaf weights\n",
    "  - $ \\gamma, \\lambda $: Regularization parameters\n",
    "\n",
    "#### 2. Split-Finding Algorithms\n",
    "- **Exact Greedy Algorithm**: Evaluates all possible splits to find the optimal one, ensuring high accuracy\n",
    "- **Approximate Algorithm**: Proposes candidate splits using quantiles, enabling efficient computation for large datasets\n",
    "\n",
    "#### 3. Parallel and Distributed Learning\n",
    "XGBoost supports parallel computation for split finding and distributed training across clusters, achieving significant speedups. \n",
    "\n",
    "#### 4. Cache-Aware and Out-of-Core Computation\n",
    "- **Cache-Aware Learning**: Optimizes memory access patterns to reduce computation time.\n",
    "- **Out-of-Core Learning**: Handles datasets that exceed memory capacity by efficiently utilizing disk storage through techniques like block compression and sharding.\n"
   ]
  },
  {
   "cell_type": "markdown",
   "id": "e8830b07-71f2-4958-b05f-6daf4b2e0e95",
   "metadata": {},
   "source": [
    "### Applications\n",
    "XGBoost has demonstrated exceptional performance in various domains:\n",
    "- **Competitions**: Used in 17 out of 29 winning solutions on Kaggle in 2015, including applications in ad click-through rate prediction, web ranking, and store sales forecasting.\n",
    "- **Physics**: High-energy physics event classification.\n",
    "- **Finance**: Fraud detection and customer behavior prediction.\n",
    "- **Healthcare**: Risk assessment and disease prediction."
   ]
  },
  {
   "cell_type": "markdown",
   "id": "2b6ce647-3163-490d-a81d-22d8839b4374",
   "metadata": {},
   "source": [
    "### Conclusion\n",
    "XGBoost remains a state-of-the-art solution for gradient boosting due to its:\n",
    "- Scalability across different data sizes and computational environments.\n",
    "- Innovations in handling sparse and weighted data.\n",
    "- Practical use in real-world applications and competitions.\n",
    "\n",
    "Its combination of speed, flexibility, and predictive accuracy makes XGBoost an indispensable tool in the machine learning ecosystem."
   ]
  },
  {
   "cell_type": "markdown",
   "id": "399121c2-6145-4790-900c-e4f9a5e33ccf",
   "metadata": {},
   "source": [
    "## XGBoost Code Implementation\n",
    "\n",
    "### Introduction\n",
    "This notebook demonstrates key concepts and experiments discussed in the XGBoost paper using a public dataset. We will:\n",
    "1. Preprocess the data.\n",
    "2. Train an XGBoost model.\n",
    "3. Evaluate the model performance using metrics like AUC and accuracy.\n",
    "4. Visualize feature importance and analyze the impact of hyperparameters.\n",
    "\n",
    "### Dataset\n",
    "We use the Higgs boson dataset, which is widely used for classification tasks. The task is to predict whether an event corresponds to the Higgs boson.#### Step 1: Install xgboost"
   ]
  },
  {
   "cell_type": "markdown",
   "id": "57fdb140-c720-43a2-a68b-13767a5f13e1",
   "metadata": {},
   "source": [
    "#### Install XGBoost\n",
    "- Using `%%capture` to suppress the installation logs"
   ]
  },
  {
   "cell_type": "code",
   "execution_count": 23,
   "id": "f0be85b5-67af-426b-916d-e90b9e5dce09",
   "metadata": {},
   "outputs": [],
   "source": [
    "%%capture\n",
    "pip install xgboost"
   ]
  },
  {
   "cell_type": "code",
   "execution_count": 24,
   "id": "123d726f-4c33-486c-8f01-fd64a523a46e",
   "metadata": {},
   "outputs": [],
   "source": [
    "%%capture\n",
    "pip install kagglehub"
   ]
  },
  {
   "cell_type": "markdown",
   "id": "6b375c23-00a9-4cc2-8522-3a317ea3de22",
   "metadata": {},
   "source": [
    "#### Import necessary libraries"
   ]
  },
  {
   "cell_type": "code",
   "execution_count": 36,
   "id": "39486771-93f1-4a4d-a502-fa892f5385bb",
   "metadata": {},
   "outputs": [],
   "source": [
    "import numpy as np\n",
    "import pandas as pd\n",
    "from sklearn.datasets import load_breast_cancer\n",
    "from sklearn.model_selection import train_test_split\n",
    "from sklearn.metrics import roc_auc_score, accuracy_score\n",
    "import xgboost as xgb\n",
    "import matplotlib.pyplot as plt\n",
    "import kagglehub\n",
    "import os"
   ]
  },
  {
   "cell_type": "markdown",
   "id": "dfd78d90-0d23-4c43-ad9c-70800aa1fe04",
   "metadata": {},
   "source": [
    "#### Downloading [**California Housing Prices**](https://www.kaggle.com/datasets/camnugent/california-housing-prices) dataset from kaggle"
   ]
  },
  {
   "cell_type": "code",
   "execution_count": 37,
   "id": "8e91de9d-0ddb-41fc-b13f-8d894bb3935b",
   "metadata": {},
   "outputs": [],
   "source": [
    "sv_path = kagglehub.dataset_download(\"camnugent/california-housing-prices\")"
   ]
  },
  {
   "cell_type": "markdown",
   "id": "2fe0a5f6-fd1b-44b0-ba2e-ddd6d76ef5dd",
   "metadata": {},
   "source": [
    "#### Set a random seed for reproducibility"
   ]
  },
  {
   "cell_type": "code",
   "execution_count": 38,
   "id": "f06c5cde-051d-432a-9026-07fa7c8eeafe",
   "metadata": {},
   "outputs": [],
   "source": [
    "np.random.seed(42)"
   ]
  },
  {
   "cell_type": "markdown",
   "id": "0c2420fc-3320-4ce3-b84d-3df0b2e7cc7d",
   "metadata": {},
   "source": [
    "#### Load the `Breast Cancer` dataset directly from `kagglehub`"
   ]
  },
  {
   "cell_type": "code",
   "execution_count": 41,
   "id": "cbca36c7-1490-4e8e-bdcb-47b3cc7f9ae2",
   "metadata": {},
   "outputs": [
    {
     "name": "stdout",
     "output_type": "stream",
     "text": [
      "<class 'pandas.core.frame.DataFrame'>\n",
      "RangeIndex: 20640 entries, 0 to 20639\n",
      "Data columns (total 10 columns):\n",
      " #   Column              Non-Null Count  Dtype  \n",
      "---  ------              --------------  -----  \n",
      " 0   longitude           20640 non-null  float64\n",
      " 1   latitude            20640 non-null  float64\n",
      " 2   housing_median_age  20640 non-null  float64\n",
      " 3   total_rooms         20640 non-null  float64\n",
      " 4   total_bedrooms      20433 non-null  float64\n",
      " 5   population          20640 non-null  float64\n",
      " 6   households          20640 non-null  float64\n",
      " 7   median_income       20640 non-null  float64\n",
      " 8   median_house_value  20640 non-null  float64\n",
      " 9   ocean_proximity     20640 non-null  object \n",
      "dtypes: float64(9), object(1)\n",
      "memory usage: 1.6+ MB\n",
      "None\n"
     ]
    },
    {
     "data": {
      "text/html": [
       "<div>\n",
       "<style scoped>\n",
       "    .dataframe tbody tr th:only-of-type {\n",
       "        vertical-align: middle;\n",
       "    }\n",
       "\n",
       "    .dataframe tbody tr th {\n",
       "        vertical-align: top;\n",
       "    }\n",
       "\n",
       "    .dataframe thead th {\n",
       "        text-align: right;\n",
       "    }\n",
       "</style>\n",
       "<table border=\"1\" class=\"dataframe\">\n",
       "  <thead>\n",
       "    <tr style=\"text-align: right;\">\n",
       "      <th></th>\n",
       "      <th>longitude</th>\n",
       "      <th>latitude</th>\n",
       "      <th>housing_median_age</th>\n",
       "      <th>total_rooms</th>\n",
       "      <th>total_bedrooms</th>\n",
       "      <th>population</th>\n",
       "      <th>households</th>\n",
       "      <th>median_income</th>\n",
       "      <th>median_house_value</th>\n",
       "      <th>ocean_proximity</th>\n",
       "    </tr>\n",
       "  </thead>\n",
       "  <tbody>\n",
       "    <tr>\n",
       "      <th>0</th>\n",
       "      <td>-122.23</td>\n",
       "      <td>37.88</td>\n",
       "      <td>41.0</td>\n",
       "      <td>880.0</td>\n",
       "      <td>129.0</td>\n",
       "      <td>322.0</td>\n",
       "      <td>126.0</td>\n",
       "      <td>8.3252</td>\n",
       "      <td>452600.0</td>\n",
       "      <td>NEAR BAY</td>\n",
       "    </tr>\n",
       "    <tr>\n",
       "      <th>1</th>\n",
       "      <td>-122.22</td>\n",
       "      <td>37.86</td>\n",
       "      <td>21.0</td>\n",
       "      <td>7099.0</td>\n",
       "      <td>1106.0</td>\n",
       "      <td>2401.0</td>\n",
       "      <td>1138.0</td>\n",
       "      <td>8.3014</td>\n",
       "      <td>358500.0</td>\n",
       "      <td>NEAR BAY</td>\n",
       "    </tr>\n",
       "    <tr>\n",
       "      <th>2</th>\n",
       "      <td>-122.24</td>\n",
       "      <td>37.85</td>\n",
       "      <td>52.0</td>\n",
       "      <td>1467.0</td>\n",
       "      <td>190.0</td>\n",
       "      <td>496.0</td>\n",
       "      <td>177.0</td>\n",
       "      <td>7.2574</td>\n",
       "      <td>352100.0</td>\n",
       "      <td>NEAR BAY</td>\n",
       "    </tr>\n",
       "    <tr>\n",
       "      <th>3</th>\n",
       "      <td>-122.25</td>\n",
       "      <td>37.85</td>\n",
       "      <td>52.0</td>\n",
       "      <td>1274.0</td>\n",
       "      <td>235.0</td>\n",
       "      <td>558.0</td>\n",
       "      <td>219.0</td>\n",
       "      <td>5.6431</td>\n",
       "      <td>341300.0</td>\n",
       "      <td>NEAR BAY</td>\n",
       "    </tr>\n",
       "    <tr>\n",
       "      <th>4</th>\n",
       "      <td>-122.25</td>\n",
       "      <td>37.85</td>\n",
       "      <td>52.0</td>\n",
       "      <td>1627.0</td>\n",
       "      <td>280.0</td>\n",
       "      <td>565.0</td>\n",
       "      <td>259.0</td>\n",
       "      <td>3.8462</td>\n",
       "      <td>342200.0</td>\n",
       "      <td>NEAR BAY</td>\n",
       "    </tr>\n",
       "  </tbody>\n",
       "</table>\n",
       "</div>"
      ],
      "text/plain": [
       "   longitude  latitude  housing_median_age  total_rooms  total_bedrooms  \\\n",
       "0    -122.23     37.88                41.0        880.0           129.0   \n",
       "1    -122.22     37.86                21.0       7099.0          1106.0   \n",
       "2    -122.24     37.85                52.0       1467.0           190.0   \n",
       "3    -122.25     37.85                52.0       1274.0           235.0   \n",
       "4    -122.25     37.85                52.0       1627.0           280.0   \n",
       "\n",
       "   population  households  median_income  median_house_value ocean_proximity  \n",
       "0       322.0       126.0         8.3252            452600.0        NEAR BAY  \n",
       "1      2401.0      1138.0         8.3014            358500.0        NEAR BAY  \n",
       "2       496.0       177.0         7.2574            352100.0        NEAR BAY  \n",
       "3       558.0       219.0         5.6431            341300.0        NEAR BAY  \n",
       "4       565.0       259.0         3.8462            342200.0        NEAR BAY  "
      ]
     },
     "execution_count": 41,
     "metadata": {},
     "output_type": "execute_result"
    }
   ],
   "source": [
    "data = pd.read_csv(os.path.join(csv_path, \"housing.csv\"))\n",
    "\n",
    "print(data.info())\n",
    "data.head()"
   ]
  },
  {
   "cell_type": "markdown",
   "id": "72265bba-3de2-4ccc-8667-ad4f5007ca91",
   "metadata": {},
   "source": [
    "The California Housing dataset includes features like median income, average number of rooms, and other housing attributes, along with the median house value as the target variable."
   ]
  },
  {
   "cell_type": "code",
   "execution_count": 43,
   "id": "bd7a152b-2943-44eb-932c-ecab072002e9",
   "metadata": {},
   "outputs": [
    {
     "name": "stdout",
     "output_type": "stream",
     "text": [
      "Training features: (16346, 12)\n",
      "Test features: (4087, 12)\n"
     ]
    }
   ],
   "source": [
    "# Handling missing values (if any)\n",
    "data.dropna(inplace=True)\n",
    "\n",
    "# Separating features and target\n",
    "X = data.drop(\"median_house_value\", axis=1)\n",
    "y = data[\"median_house_value\"]\n",
    "\n",
    "# Splitting the data into training and test sets\n",
    "X_train, X_test, y_train, y_test = train_test_split(X, y, test_size=0.2, random_state=42)\n",
    "\n",
    "print(f\"Training features: {X_train.shape}\")\n",
    "print(f\"Test features: {X_test.shape}\")"
   ]
  },
  {
   "cell_type": "code",
   "execution_count": null,
   "id": "283b7f66-ead2-4fd4-a3e3-770898b8676d",
   "metadata": {},
   "outputs": [],
   "source": []
  }
 ],
 "metadata": {
  "kernelspec": {
   "display_name": "Python 3 (ipykernel)",
   "language": "python",
   "name": "python3"
  },
  "language_info": {
   "codemirror_mode": {
    "name": "ipython",
    "version": 3
   },
   "file_extension": ".py",
   "mimetype": "text/x-python",
   "name": "python",
   "nbconvert_exporter": "python",
   "pygments_lexer": "ipython3",
   "version": "3.11.7"
  }
 },
 "nbformat": 4,
 "nbformat_minor": 5
}
