




















%%capture
pip install xgboost


%%capture
pip install kagglehub





import numpy as np
import pandas as pd
from sklearn.datasets import load_breast_cancer
from sklearn.model_selection import train_test_split
from sklearn.metrics import roc_auc_score, accuracy_score
import xgboost as xgb
import matplotlib.pyplot as plt
import kagglehub
import os





sv_path = kagglehub.dataset_download("camnugent/california-housing-prices")





np.random.seed(42)





data = pd.read_csv(os.path.join(csv_path, "housing.csv"))

print(data.info())
data.head()





# Handling missing values (if any)
data.dropna(inplace=True)

# Separating features and target
X = data.drop("median_house_value", axis=1)
y = data["median_house_value"]

# Splitting the data into training and test sets
X_train, X_test, y_train, y_test = train_test_split(X, y, test_size=0.2, random_state=42)

print(f"Training features: {X_train.shape}")
print(f"Test features: {X_test.shape}")



