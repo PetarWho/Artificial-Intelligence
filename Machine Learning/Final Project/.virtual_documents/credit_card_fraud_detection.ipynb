




















pip install kagglehub





import kagglehub
import numpy as pd
import pandas as pd 
import matplotlib.pyplot as plt
import seaborn as sns
import os
from sklearn.model_selection import train_test_split
from sklearn.metrics import accuracy_score
from sklearn.ensemble import IsolationForest
from sklearn.linear_model import LogisticRegression





kaggle_local_path = kagglehub.dataset_download("mlg-ulb/creditcardfraud")
df = pd.read_csv(os.path.join(kaggle_local_path, "creditcard.csv"))
df


df.describe()





print(f"Dataset Shape: {df.shape}")

print("\nMissing Values:")
print(df.isnull().sum())

print("\nClass Distribution:")
print(df['Class'].value_counts(normalize=True))
fraud_data_count = df['Class'].sum()
print("\nFraud Cases: ", fraud_data_count)
print("Non-Fraud Cases: ", len(df) - fraud_data_count.sum())








plt.figure(figsize=(4, 4))
sns.countplot(x='Class', data=df, palette='coolwarm')
plt.title("Class Distribution (Imbalance)")
plt.xlabel("Class")
plt.ylabel("Count")
plt.xticks(ticks=[0, 1], labels=["Non-Fraud (0)", "Fraud (1)"])
plt.show()





plt.figure(figsize=(12, 6))
plt.hist(df['Time'], bins=50, alpha=0.75, color='blue')
plt.title("Distribution of Time")
plt.xlabel("Time (seconds)")
plt.ylabel("Count")
plt.show()

plt.figure(figsize=(12, 6))
plt.hist(df['Amount'], bins=50, alpha=0.75, color='green')
plt.title("Distribution of Transaction Amount")
plt.xlabel("Amount")
plt.ylabel("Count")
plt.show()








correlation_matrix = df.corr()
plt.figure(figsize=(16, 12))
sns.heatmap(correlation_matrix, cmap="coolwarm", annot=False, fmt=".2f")
plt.title("Correlation Heatmap")
plt.show()





class_corr = correlation_matrix['Class'].sort_values(ascending=False)
print("Top Features Correlated with Class:")
print(class_corr.iloc[1:].head(10))


plt.figure(figsize=(8, 4))
sns.boxplot(x='Class', y='Amount', data=df, palette="coolwarm")
plt.yscale('log')  # Log scale to handle outliers
plt.title("Transaction Amount by Class")
plt.xlabel("Class")
plt.ylabel("Transaction Amount (log scale)")
plt.show()





not_fraud_df = df[df.Class == 0]
fraud_df = df[df.Class == 1]


not_fraud_df["Amount"].describe()








df.groupby('Class').mean()





not_fraud_sample = not_fraud_df.sample(n=fraud_data_count)
small_df = pd.concat([not_fraud_sample, fraud_df], axis=0)
small_df


small_df.groupby('Class').mean()





X = small_df.drop(columns='Class', axis=1)
Y = small_df['Class']


X


Y








X_train, X_test, Y_train, Y_test = train_test_split(X, Y, test_size=0.2, stratify=Y, random_state=2)


print(X.shape, X_train.shape, X_test.shape)


model = LogisticRegression(max_iter=1000)
model.fit(X_train, Y_train)


X_train_prediction = model.predict(X_train)
training_data_accuracy = accuracy_score(X_train_prediction, Y_train)


print('Accuracy on Training data : ', training_data_accuracy)


X_test_prediction = model.predict(X_test)
test_data_accuracy = accuracy_score(X_test_prediction, Y_test)
print('Accuracy score on Test Data : ', test_data_accuracy)



