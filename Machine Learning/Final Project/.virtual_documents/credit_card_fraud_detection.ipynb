




















%%capture
pip install kagglehub





import kagglehub
import numpy as pd
import pandas as pd 
import matplotlib.pyplot as plt
import seaborn as sns
import os
from sklearn.model_selection import train_test_split
from sklearn.metrics import classification_report, roc_auc_score, accuracy_score





kaggle_local_path = kagglehub.dataset_download("mlg-ulb/creditcardfraud")
df = pd.read_csv(os.path.join(kaggle_local_path, "creditcard.csv"))
df


df.describe()





print(f"Dataset Shape: {df.shape}")

print("\nMissing Values:")
print(df.isnull().sum())

print("\nClass Distribution:")
print(df['Class'].value_counts(normalize=True))
fraud_data_count = df['Class'].sum()
print("\nFraud Cases: ", fraud_data_count)
print("Non-Fraud Cases: ", len(df) - fraud_data_count.sum())








plt.figure(figsize=(4, 4))
sns.countplot(x='Class', data=df, palette='coolwarm')
plt.title("Class Distribution (Imbalance)")
plt.xlabel("Class")
plt.ylabel("Count")
plt.xticks(ticks=[0, 1], labels=["Non-Fraud (0)", "Fraud (1)"])
plt.show()





plt.figure(figsize=(12, 6))
plt.hist(df['Time'], bins=50, alpha=0.75, color='blue')
plt.title("Distribution of Time")
plt.xlabel("Time (seconds)")
plt.ylabel("Count")
plt.show()

plt.figure(figsize=(12, 6))
plt.hist(df['Amount'], bins=50, alpha=0.75, color='green')
plt.title("Distribution of Transaction Amount")
plt.xlabel("Amount")
plt.ylabel("Count")
plt.show()








correlation_matrix = df.corr()
plt.figure(figsize=(16, 12))
sns.heatmap(correlation_matrix, cmap="coolwarm", annot=False, fmt=".2f")
plt.title("Correlation Heatmap")
plt.show()





class_corr = correlation_matrix['Class'].sort_values(ascending=False)
print("Top Features Correlated with Class:")
print(class_corr.iloc[1:].head(10))


plt.figure(figsize=(8, 4))
sns.boxplot(x='Class', y='Amount', data=df, palette="coolwarm")
plt.yscale('log')  # Log scale to handle outliers
plt.title("Transaction Amount by Class")
plt.xlabel("Class")
plt.ylabel("Transaction Amount (log scale)")
plt.show()





not_fraud_df = df[df.Class == 0]
fraud_df = df[df.Class == 1]


not_fraud_df["Amount"].describe()








df.groupby('Class').mean()





not_fraud_sample = not_fraud_df.sample(n=fraud_data_count)
small_df = pd.concat([not_fraud_sample, fraud_df], axis=0)
small_df


small_df.groupby('Class').mean()





X = small_df.drop(columns='Class', axis=1)
Y = small_df['Class']


X


Y








X_train, X_test, Y_train, Y_test = train_test_split(X, Y, test_size=0.2, stratify=Y, random_state=2)


print(X.shape, X_train.shape, X_test.shape)





from sklearn.ensemble import RandomForestClassifier

def print_random_forest_evaluation(X_train, Y_train, X_test, Y_test):
    rf_model = RandomForestClassifier(class_weight='balanced', random_state=42)
    rf_model.fit(X_train, Y_train)
    
    Y_pred = rf_model.predict(X_test)
    Y_proba = rf_model.predict_proba(X_test)[:, 1]
    
    print("=== Classification Report ===")
    print(classification_report(Y_test, Y_pred))
    
    print("\n=== Accuracy Score ===")
    print(f"Accuracy: {accuracy_score(Y_test, Y_pred):.4f}")
    
    print("\n=== AUC-ROC Score ===")
    print(f"AUC-ROC: {roc_auc_score(Y_test, Y_proba):.4f}")


print_random_forest_evaluation(X_train, Y_train, X_test, Y_test)





%%capture
pip install xgboost


from xgboost import XGBClassifier

def print_xgboost_evaluation(X_train, Y_train, X_test, Y_test):
    xgb_model = XGBClassifier(scale_pos_weight=len(Y_train[Y_train == 0]) / len(Y_train[Y_train == 1]),
                              eval_metric='auc', random_state=42)
    xgb_model.fit(X_train, Y_train)
    
    Y_pred = xgb_model.predict(X_test)

    Y_proba = xgb_model.predict_proba(X_test)[:, 1]
    
    print("=== Classification Report ===")
    print(classification_report(Y_test, Y_pred))
    
    print("\n=== Accuracy Score ===")
    print(f"Accuracy: {accuracy_score(Y_test, Y_pred):.4f}")
    
    print("\n=== AUC-ROC Score ===")
    print(f"AUC-ROC: {roc_auc_score(Y_test, Y_proba):.4f}")


print_xgboost_evaluation(X_train, Y_train, X_test, Y_test)






