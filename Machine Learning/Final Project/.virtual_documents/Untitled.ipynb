!pip install kagglehub


import kagglehub
import pandas as pd

path = kagglehub.dataset_download("mlg-ulb/creditcardfraud")
print(path)




