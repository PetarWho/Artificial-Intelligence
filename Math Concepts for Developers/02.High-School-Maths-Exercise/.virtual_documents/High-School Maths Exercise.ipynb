import sympy
import math























x = sympy.symbols("x")
a, b, c = sympy.symbols("a b c")

print(sympy.solve(a * x**2 + b * x + c))
a * x**2 + b * x + c





sympy.init_printing()
sympy.solve(a * x**2 + b * x + c, x)





def solve_quadratic_equation(a, b, c):
    """
    Returns the real solutions of the quadratic equation ax^2 + bx + c = 0
    """
    if a == 0:
        return [] if b == 0 else [(-c / b)]

    D = b**2 - 4 * a * c
    denominator = 2 * a
    if D >= 0:      # BONUS 2
        root1 = (-b - math.sqrt(D)) / denominator
        root2 = (-b + math.sqrt(D)) / denominator
        return [root1, root2]
    else:
        return []


# Testing: Execute this cell. The outputs should match the expected outputs. Feel free to write more tests
print(solve_quadratic_equation(1, -1, -2)) # [-1.0, 2.0]
print(solve_quadratic_equation(1, -8, 16)) # [4.0]
print(solve_quadratic_equation(1, 1, 1)) # []

# BONUS
print('\n-- BONUS --')
print(solve_quadratic_equation(0, 4, 5)) # [-1.25]
print(solve_quadratic_equation(0, 6, 12)) # [-2.0]
print(solve_quadratic_equation(0, 0, 9)) # []
print(solve_quadratic_equation(0, 0, 0)) # []








x = 2
y = 3
result_power = math.pow(x, y)
print(f"Result of {x}^{y} using math.pow(): {result_power}")

# Square root function
x = 25
result_sqrt = math.sqrt(x)
print(f"Square root of {x} using math.sqrt(): {result_sqrt}")

# Logarithm function
x = 100
base = 10
result_log = math.log(x, base)
print(f"Logarithm of {x} with base {base} using math.log(): {result_log}")

# Comparing native pow() with math.pow()
x = 2
y = 3
result_native_pow = pow(x, y)
result_math_pow = math.pow(x, y)
print(f"Result of {x}^{y} using native pow(): {result_native_pow}")
print(f"Result of {x}^{y} using math.pow(): {result_math_pow}")





# Write your code here





# Copy and edit your code here











def plot_math_function(f, min_x, max_x, num_points):
    # Write your code here
    pass


plot_math_function(lambda x: 2 * x + 3, -3, 5, 1000)
plot_math_function(lambda x: -x + 8, -1, 10, 1000)
plot_math_function(lambda x: x**2 - x - 2, -3, 4, 1000)
plot_math_function(lambda x: np.sin(x), -np.pi, np.pi, 1000)
plot_math_function(lambda x: np.sin(x) / x, -4 * np.pi, 4 * np.pi, 1000)





def plot_math_functions(functions, min_x, max_x, num_points):
    # Write your code here
    pass


plot_math_functions([lambda x: 2 * x + 3, lambda x: 0], -3, 5, 1000)
plot_math_functions([lambda x: 3 * x**2 - 2 * x + 5, lambda x: 3 * x + 7], -2, 3, 1000)





plot_math_functions([lambda x: (-4 * x + 7) / 3, lambda x: (-3 * x + 8) / 5, lambda x: (-x - 1) / -2], -1, 4, 1000)








# Write your code here



